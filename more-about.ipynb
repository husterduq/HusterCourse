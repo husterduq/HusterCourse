{
 "cells": [
  {
   "cell_type": "markdown",
   "id": "775f2acb-25ca-4af8-9229-c0c770f9d2d3",
   "metadata": {},
   "source": [
    "# More About My Courses\n",
    "\n",
    "My teaching load for the last couple of years has been:\n",
    "\n",
    "### Fall\n",
    "- [PHYS 211L](gap1.ipynb), GAP 1 Lab, three or four sections\n",
    "- PHYS 312, Optics Lab, one or two sections\n",
    "- EQ 137, Why Would Anyone Become a Scientist? (Added 2022)\n",
    "\n",
    "### Spring\n",
    "- PHYS 212L, GAP 2 Lab, three sections\n",
    "- PHYS 464, Advanced Lab, one section\n",
    "- EQ 137, Why Would Anyone Become a Scientist? (To be added 2023)\n",
    "\n",
    "There is a link in the navbar for the materials for each of these \n",
    "courses."
   ]
  },
  {
   "cell_type": "code",
   "execution_count": null,
   "id": "59023c8e-cd94-4780-82e0-6a74c4ff7fe7",
   "metadata": {},
   "outputs": [],
   "source": []
  }
 ],
 "metadata": {
  "kernelspec": {
   "display_name": "Python 3 (ipykernel)",
   "language": "python",
   "name": "python3"
  },
  "language_info": {
   "codemirror_mode": {
    "name": "ipython",
    "version": 3
   },
   "file_extension": ".py",
   "mimetype": "text/x-python",
   "name": "python",
   "nbconvert_exporter": "python",
   "pygments_lexer": "ipython3",
   "version": "3.9.12"
  }
 },
 "nbformat": 4,
 "nbformat_minor": 5
}
