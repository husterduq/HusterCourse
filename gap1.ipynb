{
 "cells": [
  {
   "cell_type": "markdown",
   "id": "094f6e12-cd12-45c6-b641-dc9a84dbd14b",
   "metadata": {},
   "source": [
    "# PHYS 211L - Gap 1 Lab\n",
    "\n",
    "Before AY (Academic Year) 19-20 I used \n",
    "[Vernier LabQuest2's](https://www.vernier.com/product/labquest-2/)\n",
    "and various sensors for the lab.\n",
    "\n",
    "In response to the need to provide for remote instruction, I switched \n",
    "to the [iOLab](https://iolab.science).\n"
   ]
  },
  {
   "cell_type": "code",
   "execution_count": null,
   "id": "559ac989-3aa7-4160-bd1b-06e39ab8327a",
   "metadata": {},
   "outputs": [],
   "source": []
  }
 ],
 "metadata": {
  "kernelspec": {
   "display_name": "Python 3 (ipykernel)",
   "language": "python",
   "name": "python3"
  },
  "language_info": {
   "codemirror_mode": {
    "name": "ipython",
    "version": 3
   },
   "file_extension": ".py",
   "mimetype": "text/x-python",
   "name": "python",
   "nbconvert_exporter": "python",
   "pygments_lexer": "ipython3",
   "version": "3.9.12"
  }
 },
 "nbformat": 4,
 "nbformat_minor": 5
}
